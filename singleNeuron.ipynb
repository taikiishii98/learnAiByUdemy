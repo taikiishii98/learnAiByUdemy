{
  "nbformat": 4,
  "nbformat_minor": 0,
  "metadata": {
    "colab": {
      "provenance": [],
      "authorship_tag": "ABX9TyOXWqeiRwyxXjXBXq/yX59j",
      "include_colab_link": true
    },
    "kernelspec": {
      "name": "python3",
      "display_name": "Python 3"
    },
    "language_info": {
      "name": "python"
    }
  },
  "cells": [
    {
      "cell_type": "markdown",
      "metadata": {
        "id": "view-in-github",
        "colab_type": "text"
      },
      "source": [
        "<a href=\"https://colab.research.google.com/github/taikiishii98/learnAiByUdemy/blob/main/singleNeuron.ipynb\" target=\"_parent\"><img src=\"https://colab.research.google.com/assets/colab-badge.svg\" alt=\"Open In Colab\"/></a>"
      ]
    },
    {
      "cell_type": "code",
      "source": [
        "#単一ニューロンの実装\n",
        "import numpy as np\n",
        "\n",
        "def sigmoid(x):\n",
        "  return 1.0 / (1.0 + np.exp(-x))\n",
        "\n",
        "class Neuron:\n",
        "  def __init__(self):\n",
        "    self.input_sum =0.0\n",
        "\n",
        "  def set_input(self, inp):\n",
        "    self.input_sum += inp\n",
        "\n",
        "  def get_output(self):\n",
        "   self.output = sigmoid(self.input_sum)\n",
        "   return self.output\n",
        "\n",
        "class NeuralNetwork:\n",
        "  def __init__(self):\n",
        "    self.neuron = Neuron()\n",
        "    self.w = [1.5, 0.75, -1.0]\n",
        "    self.bias = 1.0\n",
        "\n",
        "  def commit(self, input_data):\n",
        "      self.neuron.set_input(input_data[0] * self.w[0])\n",
        "      self.neuron.set_input(input_data[1] * self.w[1])\n",
        "      self.neuron.set_input(input_data[2] * self.w[2])\n",
        "      self.neuron.set_input(self.bias)\n",
        "      return self.neuron.get_output()\n",
        "\n",
        "neural_network = NeuralNetwork()\n",
        "\n",
        "input_data = [1.0, 2.0, 3.0]\n",
        "print(neural_network.commit(input_data))"
      ],
      "metadata": {
        "colab": {
          "base_uri": "https://localhost:8080/"
        },
        "id": "L2F6ZcV_mcdv",
        "outputId": "e5cba3e2-a7ff-4665-929c-df4052768340"
      },
      "execution_count": 11,
      "outputs": [
        {
          "output_type": "stream",
          "name": "stdout",
          "text": [
            "0.7310585786300049\n"
          ]
        }
      ]
    }
  ]
}